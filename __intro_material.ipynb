{
 "cells": [
  {
   "cell_type": "markdown",
   "metadata": {},
   "source": [
    "# Intro to Jupyter Notebooks on VS Code\n",
    "1. this is a markdown cell\n",
    "2. you can write text here\n",
    "3. and use markdown syntax\n",
    "4. to format it\n",
    "5. you can also use LaTeX to write math equations\n",
    "6. like this: $y = x^2$"
   ]
  },
  {
   "cell_type": "markdown",
   "metadata": {},
   "source": [
    "### Adding images\n",
    "You can also add images to your markdown cells. Here's an example:\n",
    "\n",
    "![Python Logo](https://www.python.org/static/community_logos/python-logo-master-v3-TM.png)"
   ]
  },
  {
   "cell_type": "markdown",
   "metadata": {},
   "source": [
    "### Adding HTML\n",
    "You can also add HTML to your markdown cells. Here's an example:\n",
    "\n",
    "<iframe src=\"https://en.wikipedia.org/wiki/HTML\" width=\"800\" height=\"300\" frameborder=\"0\"></iframe>"
   ]
  },
  {
   "cell_type": "markdown",
   "metadata": {},
   "source": [
    "### commands and shortcuts\n",
    "\n",
    "Cell commands:\n",
    "- run cell: `Shift + Enter`\n",
    "- run cell without moving to the next cell: `Ctrl + Enter`\n",
    "- add cell: `A/B`\n",
    "- delete cell `D+D`\n",
    "- markdown cell `M`\n",
    "- code cell `Y`\n",
    "- cut cell `X`\n",
    "- copy cell `C`\n",
    "- paste cell `V`\n",
    "\n",
    "\n",
    "VS code commands:\n",
    "- open terminal `Ctrl + \\``\n",
    "- side by side editing `Ctrl + \\`\n",
    "- select multiple lines `Alt + click`\n",
    "- select all occurrences of a word in cell `Ctrl + F2`"
   ]
  },
  {
   "cell_type": "markdown",
   "metadata": {},
   "source": [
    "## built-in libraries\n",
    "get list of files in the folder"
   ]
  },
  {
   "cell_type": "code",
   "execution_count": 1,
   "metadata": {},
   "outputs": [
    {
     "data": {
      "text/plain": [
       "['data_dictionary.md',\n",
       " '__intro_material.ipynb',\n",
       " '.DS_Store',\n",
       " '__dataset_exploration.ipynb',\n",
       " 'dataset_exploration.ipynb',\n",
       " 'readme.md',\n",
       " '.gitignore',\n",
       " 'intro_material.ipynb',\n",
       " 'Spotify Top Songs 2024.zip',\n",
       " '.git',\n",
       " 'image.png']"
      ]
     },
     "execution_count": 1,
     "metadata": {},
     "output_type": "execute_result"
    }
   ],
   "source": [
    "# your code here\n",
    "import os\n",
    "os.listdir()"
   ]
  },
  {
   "cell_type": "markdown",
   "metadata": {},
   "source": [
    "Do some complex math"
   ]
  },
  {
   "cell_type": "code",
   "execution_count": 2,
   "metadata": {},
   "outputs": [
    {
     "name": "stdout",
     "output_type": "stream",
     "text": [
      "total 1904\n",
      "drwxr-xr-x  13 saad  staff     416 Aug  6 11:44 \u001b[34m.\u001b[m\u001b[m\n",
      "drwxr-xr-x   5 saad  staff     160 Aug  5 22:58 \u001b[34m..\u001b[m\u001b[m\n",
      "-rw-r--r--@  1 saad  staff    6148 Aug  5 22:58 .DS_Store\n",
      "drwxr-xr-x  14 saad  staff     448 Aug  6 11:45 \u001b[34m.git\u001b[m\u001b[m\n",
      "-rw-r--r--   1 saad  staff      60 Aug  6 11:44 .gitignore\n",
      "-rw-r--r--@  1 saad  staff  508134 Aug  4 16:08 Spotify Top Songs 2024.zip\n",
      "-rw-r--r--   1 saad  staff  314507 Aug  6 11:40 __dataset_exploration.ipynb\n",
      "-rw-r--r--   1 saad  staff       0 Aug  6 11:44 __intro_material.ipynb\n",
      "-rw-------   1 saad  staff    4508 Aug  5 22:43 data_dictionary.md\n",
      "-rw-r--r--   1 saad  staff    3457 Aug  5 22:54 dataset_exploration.ipynb\n",
      "-rw-r--r--   1 saad  staff  108550 Aug  5 21:15 image.png\n",
      "-rw-r--r--   1 saad  staff    4903 Aug  6 11:45 intro_material.ipynb\n",
      "-rw-------   1 saad  staff    3327 Aug  6 11:44 readme.md\n"
     ]
    }
   ],
   "source": [
    "!ls -la"
   ]
  },
  {
   "cell_type": "code",
   "execution_count": 3,
   "metadata": {},
   "outputs": [
    {
     "name": "stdout",
     "output_type": "stream",
     "text": [
      "total 1904\n",
      "drwxr-xr-x  13 saad  staff     416 Aug  6 11:44 \u001b[34m.\u001b[m\u001b[m\n",
      "drwxr-xr-x   5 saad  staff     160 Aug  5 22:58 \u001b[34m..\u001b[m\u001b[m\n",
      "-rw-r--r--@  1 saad  staff    6148 Aug  5 22:58 .DS_Store\n",
      "drwxr-xr-x  14 saad  staff     448 Aug  6 11:45 \u001b[34m.git\u001b[m\u001b[m\n",
      "-rw-r--r--   1 saad  staff      60 Aug  6 11:44 .gitignore\n",
      "-rw-r--r--@  1 saad  staff  508134 Aug  4 16:08 Spotify Top Songs 2024.zip\n",
      "-rw-r--r--   1 saad  staff  314507 Aug  6 11:40 __dataset_exploration.ipynb\n",
      "-rw-r--r--   1 saad  staff       0 Aug  6 11:44 __intro_material.ipynb\n",
      "-rw-------   1 saad  staff    4508 Aug  5 22:43 data_dictionary.md\n",
      "-rw-r--r--   1 saad  staff    3457 Aug  5 22:54 dataset_exploration.ipynb\n",
      "-rw-r--r--   1 saad  staff  108550 Aug  5 21:15 image.png\n",
      "-rw-r--r--   1 saad  staff    6056 Aug  6 11:46 intro_material.ipynb\n",
      "-rw-------   1 saad  staff    3327 Aug  6 11:44 readme.md\n"
     ]
    }
   ],
   "source": [
    "%%bash\n",
    "ls -la"
   ]
  },
  {
   "cell_type": "markdown",
   "metadata": {},
   "source": [
    "try build-in functions. _Check the readme to see the functions_"
   ]
  },
  {
   "cell_type": "code",
   "execution_count": 13,
   "metadata": {},
   "outputs": [
    {
     "name": "stdout",
     "output_type": "stream",
     "text": [
      "[2, 4, 1, 5, 3]\n",
      "5\n",
      "1\n",
      "5\n",
      "15\n",
      "[1, 2, 3, 4, 5]\n",
      "[5, 4, 3, 2, 1]\n",
      "97\n"
     ]
    }
   ],
   "source": [
    "# your code here, choose any function you like\n",
    "l = [2, 4, 1, 5, 3]\n",
    "print(l)\n",
    "print(max(l))\n",
    "print(min(l))\n",
    "print(len(l))\n",
    "print(sum(l))\n",
    "print(sorted(l))\n",
    "print(sorted(l, reverse=True))"
   ]
  },
  {
   "cell_type": "markdown",
   "metadata": {},
   "source": [
    "import the libraries we downloaded"
   ]
  },
  {
   "cell_type": "code",
   "execution_count": 14,
   "metadata": {},
   "outputs": [],
   "source": [
    "# your code here\n",
    "import pandas as pd\n",
    "import plotly.express as px"
   ]
  },
  {
   "cell_type": "markdown",
   "metadata": {},
   "source": [
    "Quick access to the documentation / help?"
   ]
  },
  {
   "cell_type": "code",
   "execution_count": 16,
   "metadata": {},
   "outputs": [
    {
     "name": "stdout",
     "output_type": "stream",
     "text": [
      "\u001b[0;31mSignature:\u001b[0m\n",
      "\u001b[0mpx\u001b[0m\u001b[0;34m.\u001b[0m\u001b[0mhistogram\u001b[0m\u001b[0;34m(\u001b[0m\u001b[0;34m\u001b[0m\n",
      "\u001b[0;34m\u001b[0m    \u001b[0mdata_frame\u001b[0m\u001b[0;34m=\u001b[0m\u001b[0;32mNone\u001b[0m\u001b[0;34m,\u001b[0m\u001b[0;34m\u001b[0m\n",
      "\u001b[0;34m\u001b[0m    \u001b[0mx\u001b[0m\u001b[0;34m=\u001b[0m\u001b[0;32mNone\u001b[0m\u001b[0;34m,\u001b[0m\u001b[0;34m\u001b[0m\n",
      "\u001b[0;34m\u001b[0m    \u001b[0my\u001b[0m\u001b[0;34m=\u001b[0m\u001b[0;32mNone\u001b[0m\u001b[0;34m,\u001b[0m\u001b[0;34m\u001b[0m\n",
      "\u001b[0;34m\u001b[0m    \u001b[0mcolor\u001b[0m\u001b[0;34m=\u001b[0m\u001b[0;32mNone\u001b[0m\u001b[0;34m,\u001b[0m\u001b[0;34m\u001b[0m\n",
      "\u001b[0;34m\u001b[0m    \u001b[0mpattern_shape\u001b[0m\u001b[0;34m=\u001b[0m\u001b[0;32mNone\u001b[0m\u001b[0;34m,\u001b[0m\u001b[0;34m\u001b[0m\n",
      "\u001b[0;34m\u001b[0m    \u001b[0mfacet_row\u001b[0m\u001b[0;34m=\u001b[0m\u001b[0;32mNone\u001b[0m\u001b[0;34m,\u001b[0m\u001b[0;34m\u001b[0m\n",
      "\u001b[0;34m\u001b[0m    \u001b[0mfacet_col\u001b[0m\u001b[0;34m=\u001b[0m\u001b[0;32mNone\u001b[0m\u001b[0;34m,\u001b[0m\u001b[0;34m\u001b[0m\n",
      "\u001b[0;34m\u001b[0m    \u001b[0mfacet_col_wrap\u001b[0m\u001b[0;34m=\u001b[0m\u001b[0;36m0\u001b[0m\u001b[0;34m,\u001b[0m\u001b[0;34m\u001b[0m\n",
      "\u001b[0;34m\u001b[0m    \u001b[0mfacet_row_spacing\u001b[0m\u001b[0;34m=\u001b[0m\u001b[0;32mNone\u001b[0m\u001b[0;34m,\u001b[0m\u001b[0;34m\u001b[0m\n",
      "\u001b[0;34m\u001b[0m    \u001b[0mfacet_col_spacing\u001b[0m\u001b[0;34m=\u001b[0m\u001b[0;32mNone\u001b[0m\u001b[0;34m,\u001b[0m\u001b[0;34m\u001b[0m\n",
      "\u001b[0;34m\u001b[0m    \u001b[0mhover_name\u001b[0m\u001b[0;34m=\u001b[0m\u001b[0;32mNone\u001b[0m\u001b[0;34m,\u001b[0m\u001b[0;34m\u001b[0m\n",
      "\u001b[0;34m\u001b[0m    \u001b[0mhover_data\u001b[0m\u001b[0;34m=\u001b[0m\u001b[0;32mNone\u001b[0m\u001b[0;34m,\u001b[0m\u001b[0;34m\u001b[0m\n",
      "\u001b[0;34m\u001b[0m    \u001b[0manimation_frame\u001b[0m\u001b[0;34m=\u001b[0m\u001b[0;32mNone\u001b[0m\u001b[0;34m,\u001b[0m\u001b[0;34m\u001b[0m\n",
      "\u001b[0;34m\u001b[0m    \u001b[0manimation_group\u001b[0m\u001b[0;34m=\u001b[0m\u001b[0;32mNone\u001b[0m\u001b[0;34m,\u001b[0m\u001b[0;34m\u001b[0m\n",
      "\u001b[0;34m\u001b[0m    \u001b[0mcategory_orders\u001b[0m\u001b[0;34m=\u001b[0m\u001b[0;32mNone\u001b[0m\u001b[0;34m,\u001b[0m\u001b[0;34m\u001b[0m\n",
      "\u001b[0;34m\u001b[0m    \u001b[0mlabels\u001b[0m\u001b[0;34m=\u001b[0m\u001b[0;32mNone\u001b[0m\u001b[0;34m,\u001b[0m\u001b[0;34m\u001b[0m\n",
      "\u001b[0;34m\u001b[0m    \u001b[0mcolor_discrete_sequence\u001b[0m\u001b[0;34m=\u001b[0m\u001b[0;32mNone\u001b[0m\u001b[0;34m,\u001b[0m\u001b[0;34m\u001b[0m\n",
      "\u001b[0;34m\u001b[0m    \u001b[0mcolor_discrete_map\u001b[0m\u001b[0;34m=\u001b[0m\u001b[0;32mNone\u001b[0m\u001b[0;34m,\u001b[0m\u001b[0;34m\u001b[0m\n",
      "\u001b[0;34m\u001b[0m    \u001b[0mpattern_shape_sequence\u001b[0m\u001b[0;34m=\u001b[0m\u001b[0;32mNone\u001b[0m\u001b[0;34m,\u001b[0m\u001b[0;34m\u001b[0m\n",
      "\u001b[0;34m\u001b[0m    \u001b[0mpattern_shape_map\u001b[0m\u001b[0;34m=\u001b[0m\u001b[0;32mNone\u001b[0m\u001b[0;34m,\u001b[0m\u001b[0;34m\u001b[0m\n",
      "\u001b[0;34m\u001b[0m    \u001b[0mmarginal\u001b[0m\u001b[0;34m=\u001b[0m\u001b[0;32mNone\u001b[0m\u001b[0;34m,\u001b[0m\u001b[0;34m\u001b[0m\n",
      "\u001b[0;34m\u001b[0m    \u001b[0mopacity\u001b[0m\u001b[0;34m=\u001b[0m\u001b[0;32mNone\u001b[0m\u001b[0;34m,\u001b[0m\u001b[0;34m\u001b[0m\n",
      "\u001b[0;34m\u001b[0m    \u001b[0morientation\u001b[0m\u001b[0;34m=\u001b[0m\u001b[0;32mNone\u001b[0m\u001b[0;34m,\u001b[0m\u001b[0;34m\u001b[0m\n",
      "\u001b[0;34m\u001b[0m    \u001b[0mbarmode\u001b[0m\u001b[0;34m=\u001b[0m\u001b[0;34m'relative'\u001b[0m\u001b[0;34m,\u001b[0m\u001b[0;34m\u001b[0m\n",
      "\u001b[0;34m\u001b[0m    \u001b[0mbarnorm\u001b[0m\u001b[0;34m=\u001b[0m\u001b[0;32mNone\u001b[0m\u001b[0;34m,\u001b[0m\u001b[0;34m\u001b[0m\n",
      "\u001b[0;34m\u001b[0m    \u001b[0mhistnorm\u001b[0m\u001b[0;34m=\u001b[0m\u001b[0;32mNone\u001b[0m\u001b[0;34m,\u001b[0m\u001b[0;34m\u001b[0m\n",
      "\u001b[0;34m\u001b[0m    \u001b[0mlog_x\u001b[0m\u001b[0;34m=\u001b[0m\u001b[0;32mFalse\u001b[0m\u001b[0;34m,\u001b[0m\u001b[0;34m\u001b[0m\n",
      "\u001b[0;34m\u001b[0m    \u001b[0mlog_y\u001b[0m\u001b[0;34m=\u001b[0m\u001b[0;32mFalse\u001b[0m\u001b[0;34m,\u001b[0m\u001b[0;34m\u001b[0m\n",
      "\u001b[0;34m\u001b[0m    \u001b[0mrange_x\u001b[0m\u001b[0;34m=\u001b[0m\u001b[0;32mNone\u001b[0m\u001b[0;34m,\u001b[0m\u001b[0;34m\u001b[0m\n",
      "\u001b[0;34m\u001b[0m    \u001b[0mrange_y\u001b[0m\u001b[0;34m=\u001b[0m\u001b[0;32mNone\u001b[0m\u001b[0;34m,\u001b[0m\u001b[0;34m\u001b[0m\n",
      "\u001b[0;34m\u001b[0m    \u001b[0mhistfunc\u001b[0m\u001b[0;34m=\u001b[0m\u001b[0;32mNone\u001b[0m\u001b[0;34m,\u001b[0m\u001b[0;34m\u001b[0m\n",
      "\u001b[0;34m\u001b[0m    \u001b[0mcumulative\u001b[0m\u001b[0;34m=\u001b[0m\u001b[0;32mNone\u001b[0m\u001b[0;34m,\u001b[0m\u001b[0;34m\u001b[0m\n",
      "\u001b[0;34m\u001b[0m    \u001b[0mnbins\u001b[0m\u001b[0;34m=\u001b[0m\u001b[0;32mNone\u001b[0m\u001b[0;34m,\u001b[0m\u001b[0;34m\u001b[0m\n",
      "\u001b[0;34m\u001b[0m    \u001b[0mtext_auto\u001b[0m\u001b[0;34m=\u001b[0m\u001b[0;32mFalse\u001b[0m\u001b[0;34m,\u001b[0m\u001b[0;34m\u001b[0m\n",
      "\u001b[0;34m\u001b[0m    \u001b[0mtitle\u001b[0m\u001b[0;34m=\u001b[0m\u001b[0;32mNone\u001b[0m\u001b[0;34m,\u001b[0m\u001b[0;34m\u001b[0m\n",
      "\u001b[0;34m\u001b[0m    \u001b[0mtemplate\u001b[0m\u001b[0;34m=\u001b[0m\u001b[0;32mNone\u001b[0m\u001b[0;34m,\u001b[0m\u001b[0;34m\u001b[0m\n",
      "\u001b[0;34m\u001b[0m    \u001b[0mwidth\u001b[0m\u001b[0;34m=\u001b[0m\u001b[0;32mNone\u001b[0m\u001b[0;34m,\u001b[0m\u001b[0;34m\u001b[0m\n",
      "\u001b[0;34m\u001b[0m    \u001b[0mheight\u001b[0m\u001b[0;34m=\u001b[0m\u001b[0;32mNone\u001b[0m\u001b[0;34m,\u001b[0m\u001b[0;34m\u001b[0m\n",
      "\u001b[0;34m\u001b[0m\u001b[0;34m)\u001b[0m \u001b[0;34m->\u001b[0m \u001b[0mplotly\u001b[0m\u001b[0;34m.\u001b[0m\u001b[0mgraph_objs\u001b[0m\u001b[0;34m.\u001b[0m\u001b[0m_figure\u001b[0m\u001b[0;34m.\u001b[0m\u001b[0mFigure\u001b[0m\u001b[0;34m\u001b[0m\u001b[0;34m\u001b[0m\u001b[0m\n",
      "\u001b[0;31mDocstring:\u001b[0m\n",
      "    In a histogram, rows of `data_frame` are grouped together into a\n",
      "    rectangular mark to visualize the 1D distribution of an aggregate\n",
      "    function `histfunc` (e.g. the count or sum) of the value `y` (or `x` if\n",
      "    `orientation` is `'h'`).\n",
      "    \n",
      "Parameters\n",
      "----------\n",
      "data_frame: DataFrame or array-like or dict\n",
      "    This argument needs to be passed for column names (and not keyword\n",
      "    names) to be used. Array-like and dict are transformed internally to a\n",
      "    pandas DataFrame. Optional: if missing, a DataFrame gets constructed\n",
      "    under the hood using the other arguments.\n",
      "x: str or int or Series or array-like\n",
      "    Either a name of a column in `data_frame`, or a pandas Series or\n",
      "    array_like object. Values from this column or array_like are used to\n",
      "    position marks along the x axis in cartesian coordinates. If\n",
      "    `orientation` is `'h'`, these values are used as inputs to `histfunc`.\n",
      "    Either `x` or `y` can optionally be a list of column references or\n",
      "    array_likes,  in which case the data will be treated as if it were\n",
      "    'wide' rather than 'long'.\n",
      "y: str or int or Series or array-like\n",
      "    Either a name of a column in `data_frame`, or a pandas Series or\n",
      "    array_like object. Values from this column or array_like are used to\n",
      "    position marks along the y axis in cartesian coordinates. If\n",
      "    `orientation` is `'v'`, these values are used as inputs to `histfunc`.\n",
      "    Either `x` or `y` can optionally be a list of column references or\n",
      "    array_likes,  in which case the data will be treated as if it were\n",
      "    'wide' rather than 'long'.\n",
      "color: str or int or Series or array-like\n",
      "    Either a name of a column in `data_frame`, or a pandas Series or\n",
      "    array_like object. Values from this column or array_like are used to\n",
      "    assign color to marks.\n",
      "pattern_shape: str or int or Series or array-like\n",
      "    Either a name of a column in `data_frame`, or a pandas Series or\n",
      "    array_like object. Values from this column or array_like are used to\n",
      "    assign pattern shapes to marks.\n",
      "facet_row: str or int or Series or array-like\n",
      "    Either a name of a column in `data_frame`, or a pandas Series or\n",
      "    array_like object. Values from this column or array_like are used to\n",
      "    assign marks to facetted subplots in the vertical direction.\n",
      "facet_col: str or int or Series or array-like\n",
      "    Either a name of a column in `data_frame`, or a pandas Series or\n",
      "    array_like object. Values from this column or array_like are used to\n",
      "    assign marks to facetted subplots in the horizontal direction.\n",
      "facet_col_wrap: int\n",
      "    Maximum number of facet columns. Wraps the column variable at this\n",
      "    width, so that the column facets span multiple rows. Ignored if 0, and\n",
      "    forced to 0 if `facet_row` or a `marginal` is set.\n",
      "facet_row_spacing: float between 0 and 1\n",
      "    Spacing between facet rows, in paper units. Default is 0.03 or 0.0.7\n",
      "    when facet_col_wrap is used.\n",
      "facet_col_spacing: float between 0 and 1\n",
      "    Spacing between facet columns, in paper units Default is 0.02.\n",
      "hover_name: str or int or Series or array-like\n",
      "    Either a name of a column in `data_frame`, or a pandas Series or\n",
      "    array_like object. Values from this column or array_like appear in bold\n",
      "    in the hover tooltip.\n",
      "hover_data: str, or list of str or int, or Series or array-like, or dict\n",
      "    Either a name or list of names of columns in `data_frame`, or pandas\n",
      "    Series, or array_like objects or a dict with column names as keys, with\n",
      "    values True (for default formatting) False (in order to remove this\n",
      "    column from hover information), or a formatting string, for example\n",
      "    ':.3f' or '|%a' or list-like data to appear in the hover tooltip or\n",
      "    tuples with a bool or formatting string as first element, and list-like\n",
      "    data to appear in hover as second element Values from these columns\n",
      "    appear as extra data in the hover tooltip.\n",
      "animation_frame: str or int or Series or array-like\n",
      "    Either a name of a column in `data_frame`, or a pandas Series or\n",
      "    array_like object. Values from this column or array_like are used to\n",
      "    assign marks to animation frames.\n",
      "animation_group: str or int or Series or array-like\n",
      "    Either a name of a column in `data_frame`, or a pandas Series or\n",
      "    array_like object. Values from this column or array_like are used to\n",
      "    provide object-constancy across animation frames: rows with matching\n",
      "    `animation_group`s will be treated as if they describe the same object\n",
      "    in each frame.\n",
      "category_orders: dict with str keys and list of str values (default `{}`)\n",
      "    By default, in Python 3.6+, the order of categorical values in axes,\n",
      "    legends and facets depends on the order in which these values are first\n",
      "    encountered in `data_frame` (and no order is guaranteed by default in\n",
      "    Python below 3.6). This parameter is used to force a specific ordering\n",
      "    of values per column. The keys of this dict should correspond to column\n",
      "    names, and the values should be lists of strings corresponding to the\n",
      "    specific display order desired.\n",
      "labels: dict with str keys and str values (default `{}`)\n",
      "    By default, column names are used in the figure for axis titles, legend\n",
      "    entries and hovers. This parameter allows this to be overridden. The\n",
      "    keys of this dict should correspond to column names, and the values\n",
      "    should correspond to the desired label to be displayed.\n",
      "color_discrete_sequence: list of str\n",
      "    Strings should define valid CSS-colors. When `color` is set and the\n",
      "    values in the corresponding column are not numeric, values in that\n",
      "    column are assigned colors by cycling through `color_discrete_sequence`\n",
      "    in the order described in `category_orders`, unless the value of\n",
      "    `color` is a key in `color_discrete_map`. Various useful color\n",
      "    sequences are available in the `plotly.express.colors` submodules,\n",
      "    specifically `plotly.express.colors.qualitative`.\n",
      "color_discrete_map: dict with str keys and str values (default `{}`)\n",
      "    String values should define valid CSS-colors Used to override\n",
      "    `color_discrete_sequence` to assign a specific colors to marks\n",
      "    corresponding with specific values. Keys in `color_discrete_map` should\n",
      "    be values in the column denoted by `color`. Alternatively, if the\n",
      "    values of `color` are valid colors, the string `'identity'` may be\n",
      "    passed to cause them to be used directly.\n",
      "pattern_shape_sequence: list of str\n",
      "    Strings should define valid plotly.js patterns-shapes. When\n",
      "    `pattern_shape` is set, values in that column are assigned patterns-\n",
      "    shapes by cycling through `pattern_shape_sequence` in the order\n",
      "    described in `category_orders`, unless the value of `pattern_shape` is\n",
      "    a key in `pattern_shape_map`.\n",
      "pattern_shape_map: dict with str keys and str values (default `{}`)\n",
      "    Strings values define plotly.js patterns-shapes. Used to override\n",
      "    `pattern_shape_sequences` to assign a specific patterns-shapes to lines\n",
      "    corresponding with specific values. Keys in `pattern_shape_map` should\n",
      "    be values in the column denoted by `pattern_shape`. Alternatively, if\n",
      "    the values of `pattern_shape` are valid patterns-shapes names, the\n",
      "    string `'identity'` may be passed to cause them to be used directly.\n",
      "marginal: str\n",
      "    One of `'rug'`, `'box'`, `'violin'`, or `'histogram'`. If set, a\n",
      "    subplot is drawn alongside the main plot, visualizing the distribution.\n",
      "opacity: float\n",
      "    Value between 0 and 1. Sets the opacity for markers.\n",
      "orientation: str, one of `'h'` for horizontal or `'v'` for vertical. \n",
      "    (default `'v'` if `x` and `y` are provided and both continous or both\n",
      "    categorical,  otherwise `'v'`(`'h'`) if `x`(`y`) is categorical and\n",
      "    `y`(`x`) is continuous,  otherwise `'v'`(`'h'`) if only `x`(`y`) is\n",
      "    provided)\n",
      "barmode: str (default `'relative'`)\n",
      "    One of `'group'`, `'overlay'` or `'relative'` In `'relative'` mode,\n",
      "    bars are stacked above zero for positive values and below zero for\n",
      "    negative values. In `'overlay'` mode, bars are drawn on top of one\n",
      "    another. In `'group'` mode, bars are placed beside each other.\n",
      "barnorm: str (default `None`)\n",
      "    One of `'fraction'` or `'percent'`. If `'fraction'`, the value of each\n",
      "    bar is divided by the sum of all values at that location coordinate.\n",
      "    `'percent'` is the same but multiplied by 100 to show percentages.\n",
      "    `None` will stack up all values at each location coordinate.\n",
      "histnorm: str (default `None`)\n",
      "    One of `'percent'`, `'probability'`, `'density'`, or `'probability\n",
      "    density'` If `None`, the output of `histfunc` is used as is. If\n",
      "    `'probability'`, the output of `histfunc` for a given bin is divided by\n",
      "    the sum of the output of `histfunc` for all bins. If `'percent'`, the\n",
      "    output of `histfunc` for a given bin is divided by the sum of the\n",
      "    output of `histfunc` for all bins and multiplied by 100. If\n",
      "    `'density'`, the output of `histfunc` for a given bin is divided by the\n",
      "    size of the bin. If `'probability density'`, the output of `histfunc`\n",
      "    for a given bin is normalized such that it corresponds to the\n",
      "    probability that a random event whose distribution is described by the\n",
      "    output of `histfunc` will fall into that bin.\n",
      "log_x: boolean (default `False`)\n",
      "    If `True`, the x-axis is log-scaled in cartesian coordinates.\n",
      "log_y: boolean (default `False`)\n",
      "    If `True`, the y-axis is log-scaled in cartesian coordinates.\n",
      "range_x: list of two numbers\n",
      "    If provided, overrides auto-scaling on the x-axis in cartesian\n",
      "    coordinates.\n",
      "range_y: list of two numbers\n",
      "    If provided, overrides auto-scaling on the y-axis in cartesian\n",
      "    coordinates.\n",
      "histfunc: str (default `'count'` if no arguments are provided, else `'sum'`)\n",
      "    One of `'count'`, `'sum'`, `'avg'`, `'min'`, or `'max'`. Function used\n",
      "    to aggregate values for summarization (note: can be normalized with\n",
      "    `histnorm`). The arguments to this function are the values of `y` (`x`)\n",
      "    if `orientation` is `'v'` (`'h'`).\n",
      "cumulative: boolean (default `False`)\n",
      "    If `True`, histogram values are cumulative.\n",
      "nbins: int\n",
      "    Positive integer. Sets the number of bins.\n",
      "text_auto: bool or string (default `False`)\n",
      "    If `True` or a string, the x or y or z values will be displayed as\n",
      "    text, depending on the orientation A string like `'.2f'` will be\n",
      "    interpreted as a `texttemplate` numeric formatting directive.\n",
      "title: str\n",
      "    The figure title.\n",
      "template: str or dict or plotly.graph_objects.layout.Template instance\n",
      "    The figure template name (must be a key in plotly.io.templates) or\n",
      "    definition.\n",
      "width: int (default `None`)\n",
      "    The figure width in pixels.\n",
      "height: int (default `None`)\n",
      "    The figure height in pixels.\n",
      "\n",
      "Returns\n",
      "-------\n",
      "    plotly.graph_objects.Figure\n",
      "\u001b[0;31mFile:\u001b[0m      ~/miniconda3/envs/spotify/lib/python3.12/site-packages/plotly/express/_chart_types.py\n",
      "\u001b[0;31mType:\u001b[0m      function"
     ]
    }
   ],
   "source": [
    "# your code here\n",
    "px.histogram?"
   ]
  },
  {
   "cell_type": "markdown",
   "metadata": {},
   "source": [
    "### Magic commands\n",
    "try using time "
   ]
  },
  {
   "cell_type": "code",
   "execution_count": 19,
   "metadata": {},
   "outputs": [
    {
     "name": "stdout",
     "output_type": "stream",
     "text": [
      "CPU times: user 1.19 s, sys: 9.07 ms, total: 1.2 s\n",
      "Wall time: 1.23 s\n"
     ]
    }
   ],
   "source": [
    "%%time\n",
    "for i in range(100_000_000):\n",
    "    pass\n"
   ]
  },
  {
   "cell_type": "code",
   "execution_count": 20,
   "metadata": {},
   "outputs": [
    {
     "name": "stdout",
     "output_type": "stream",
     "text": [
      "789 ms ± 15.7 ms per loop (mean ± std. dev. of 7 runs, 1 loop each)\n"
     ]
    }
   ],
   "source": [
    "%%timeit\n",
    "for i in range(100_000_000):\n",
    "    pass\n"
   ]
  },
  {
   "cell_type": "markdown",
   "metadata": {},
   "source": [
    "install `nbformat` from the notebook"
   ]
  },
  {
   "cell_type": "code",
   "execution_count": 22,
   "metadata": {},
   "outputs": [],
   "source": [
    "%%capture\n",
    "!conda install nbformat\n"
   ]
  },
  {
   "cell_type": "markdown",
   "metadata": {},
   "source": [
    "### Save the notebook as html"
   ]
  },
  {
   "cell_type": "code",
   "execution_count": 23,
   "metadata": {},
   "outputs": [
    {
     "name": "stdout",
     "output_type": "stream",
     "text": [
      "[NbConvertApp] Converting notebook intro_material.ipynb to html\n",
      "[NbConvertApp] Writing 304470 bytes to intro_material.html\n"
     ]
    }
   ],
   "source": [
    "# your code here\n",
    "!jupyter nbconvert --to html intro_material.ipynb"
   ]
  }
 ],
 "metadata": {
  "kernelspec": {
   "display_name": "base",
   "language": "python",
   "name": "python3"
  },
  "language_info": {
   "codemirror_mode": {
    "name": "ipython",
    "version": 3
   },
   "file_extension": ".py",
   "mimetype": "text/x-python",
   "name": "python",
   "nbconvert_exporter": "python",
   "pygments_lexer": "ipython3",
   "version": "3.12.4"
  }
 },
 "nbformat": 4,
 "nbformat_minor": 2
}
